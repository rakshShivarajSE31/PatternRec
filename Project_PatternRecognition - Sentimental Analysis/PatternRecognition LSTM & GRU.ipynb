{
 "cells": [
  {
   "cell_type": "code",
   "execution_count": 1,
   "id": "96529d41",
   "metadata": {},
   "outputs": [],
   "source": [
    "# Group - 14\n",
    "# Department of Computer Science, University at Buffalo\n",
    "\n",
    "# Ramanathan Nachiappan - 50469166\n",
    "# Rakshitha Gowda - \n",
    "\n",
    "# PS-2: Sentiment Analysis\n",
    "# Data Set - IMDB movie reviews - Kaggle\n",
    "# Biderectional LSTM, GRU"
   ]
  },
  {
   "cell_type": "markdown",
   "id": "0d202d08",
   "metadata": {},
   "source": [
    "### Loading necessary packages, i.e: PyTorch, NLTK... "
   ]
  },
  {
   "cell_type": "code",
   "execution_count": 2,
   "id": "036d21b4",
   "metadata": {},
   "outputs": [],
   "source": [
    "# General packages\n",
    "import time\n",
    "import os\n",
    "from tqdm import tqdm\n",
    "from torchsummary import summary\n",
    "from wordcloud import WordCloud\n",
    "from collections import Counter\n",
    "\n",
    "# tqdm for diplaying progress during training as we use pytorch\n",
    "from tqdm import tqdm\n",
    "tqdm.pandas()\n",
    "\n",
    "# General packages\n",
    "import pandas as pd\n",
    "import numpy as np\n",
    "import matplotlib.pyplot as plt\n",
    "\n",
    "# Sklearn packages\n",
    "from sklearn import preprocessing\n",
    "from sklearn.model_selection import train_test_split\n",
    "from sklearn.feature_extraction.text import CountVectorizer\n",
    "from sklearn.feature_extraction.text import TfidfTransformer\n",
    "from sklearn.metrics import f1_score, precision_score, recall_score, accuracy_score\n",
    "from sklearn.metrics import classification_report"
   ]
  },
  {
   "cell_type": "code",
   "execution_count": 3,
   "id": "a44acf2f",
   "metadata": {},
   "outputs": [],
   "source": [
    "# General packages\n",
    "import re\n",
    "import string\n",
    "\n",
    "# NLTK package for NLP and gensim for Word2vec\n",
    "import nltk \n",
    "from gensim.models import Word2Vec\n",
    "from nltk.corpus import stopwords \n",
    "from nltk.stem import WordNetLemmatizer\n",
    "from nltk.tokenize import word_tokenize, sent_tokenize"
   ]
  },
  {
   "cell_type": "code",
   "execution_count": 4,
   "id": "d95f4a1a",
   "metadata": {},
   "outputs": [
    {
     "name": "stderr",
     "output_type": "stream",
     "text": [
      "[nltk_data] Downloading package stopwords to C:\\Users\\Ram\n",
      "[nltk_data]     N\\AppData\\Roaming\\nltk_data...\n",
      "[nltk_data]   Package stopwords is already up-to-date!\n",
      "[nltk_data] Downloading package wordnet to C:\\Users\\Ram\n",
      "[nltk_data]     N\\AppData\\Roaming\\nltk_data...\n",
      "[nltk_data]   Package wordnet is already up-to-date!\n"
     ]
    }
   ],
   "source": [
    "# Downloading stopwords in english using nltk\n",
    "nltk.download('stopwords')\n",
    "nltk.download('wordnet')\n",
    "stopwords = set(stopwords.words('english'))"
   ]
  },
  {
   "cell_type": "code",
   "execution_count": 5,
   "id": "99d0879a",
   "metadata": {},
   "outputs": [],
   "source": [
    "# PyTorch for modelling Bi - LSTM, GRU\n",
    "import torch\n",
    "import torch.nn as nn\n",
    "from torch.utils.data import DataLoader, TensorDataset\n",
    "from torch.nn.utils.rnn import pad_sequence\n",
    "import torch.optim as op"
   ]
  },
  {
   "cell_type": "markdown",
   "id": "f7318b49",
   "metadata": {},
   "source": [
    "### Loading IMDB data from Kaggle and cleaning data - Ramanathan"
   ]
  },
  {
   "cell_type": "code",
   "execution_count": 6,
   "id": "8cd8d807",
   "metadata": {},
   "outputs": [
    {
     "name": "stdout",
     "output_type": "stream",
     "text": [
      "                                              review sentiment\n",
      "0  One of the other reviewers has mentioned that ...  positive\n",
      "1  A wonderful little production. <br /><br />The...  positive\n",
      "2  I thought this was a wonderful way to spend ti...  positive\n",
      "3  Basically there's a family where a little boy ...  negative\n",
      "4  Petter Mattei's \"Love in the Time of Money\" is...  positive\n"
     ]
    }
   ],
   "source": [
    "# Loading Data\n",
    "file_path = 'C:/Users/Ram N/Desktop/PR project/IMDB Dataset.csv'\n",
    "dataset = pd.read_csv(file_path)\n",
    "print(dataset.head())"
   ]
  },
  {
   "cell_type": "code",
   "execution_count": 7,
   "id": "ac0f15db",
   "metadata": {},
   "outputs": [
    {
     "name": "stdout",
     "output_type": "stream",
     "text": [
      "<class 'pandas.core.frame.DataFrame'>\n",
      "RangeIndex: 50000 entries, 0 to 49999\n",
      "Data columns (total 2 columns):\n",
      " #   Column     Non-Null Count  Dtype \n",
      "---  ------     --------------  ----- \n",
      " 0   review     50000 non-null  object\n",
      " 1   sentiment  50000 non-null  object\n",
      "dtypes: object(2)\n",
      "memory usage: 781.4+ KB\n"
     ]
    }
   ],
   "source": [
    "dataset.info()"
   ]
  },
  {
   "cell_type": "code",
   "execution_count": 8,
   "id": "b980ee5e",
   "metadata": {},
   "outputs": [
    {
     "name": "stdout",
     "output_type": "stream",
     "text": [
      "The number of duplications: 418\n"
     ]
    }
   ],
   "source": [
    "# Finding Duplicates\n",
    "duplicatedrows = dataset.duplicated().sum()\n",
    "print(\"The number of duplications:\", duplicatedrows)"
   ]
  },
  {
   "cell_type": "code",
   "execution_count": 9,
   "id": "a3c3e8e3",
   "metadata": {},
   "outputs": [],
   "source": [
    "# Removing Duplicates\n",
    "dataset = dataset.drop_duplicates()"
   ]
  },
  {
   "cell_type": "code",
   "execution_count": 10,
   "id": "e760d51b",
   "metadata": {},
   "outputs": [
    {
     "name": "stdout",
     "output_type": "stream",
     "text": [
      "positive    24884\n",
      "negative    24698\n",
      "Name: sentiment, dtype: int64\n"
     ]
    }
   ],
   "source": [
    "sentiment_counts = dataset['sentiment'].value_counts()\n",
    "print(sentiment_counts)"
   ]
  },
  {
   "cell_type": "markdown",
   "id": "32cdb337",
   "metadata": {},
   "source": [
    "###  Data Cleaning text  pipeline - Ramanathan"
   ]
  },
  {
   "cell_type": "code",
   "execution_count": 11,
   "id": "b7dc3137",
   "metadata": {},
   "outputs": [],
   "source": [
    "def stripofimonji(input):\n",
    "    combiofemonji = re.compile(\"[\"\n",
    "                           u\"\\U0001F600-\\U0001F64F\"  \n",
    "                           u\"\\U0001F300-\\U0001F5FF\"\n",
    "                           u\"\\U000024C2-\\U0001F251\"\n",
    "                           u\"\\U0001F680-\\U0001F6FF\"  \n",
    "                           u\"\\U0001F1E0-\\U0001F1FF\"\n",
    "                           u'\\U00002702-\\U000027B0'\n",
    "                           \"]+\", flags = re.UNICODE)\n",
    "    return combiofemonji.sub(r'', input)\n",
    "def stripnewline(input):\n",
    "    ct = ' '.join(input.splitlines())\n",
    "    ct = re.sub(r'(.)\\1+', r'\\1\\1', ct)\n",
    "    return ct\n",
    "def striplinks(input):\n",
    "    ct = re.sub(r'https?://\\S+|www\\.\\S+', '', input)\n",
    "    ct = re.sub(r'<[^>]+>', '', ct)\n",
    "    return ct\n",
    "def stripNonASCII (input):\n",
    "    return re.sub(r'[^\\x00-\\x7f]', r'', input)\n",
    "def stripsymbols(input):\n",
    "    ct = ''.join(verb for verb in input if verb not in string.punctuation)\n",
    "    return re.sub(r'[\\\"\\#\\$\\%\\&\\'\\(\\)\\*\\+\\/\\:\\;\\<\\=\\>\\@\\[\\\\\\]\\^\\_\\`\\{\\|\\}\\~]', ' ', ct)\n",
    "def striphastags(input): \n",
    "    ct = re.sub(r'(?<!\\bhashtag)#\\w+', '', input) \n",
    "    hashes = re.split(r'#[\\w-]+|_', ct)\n",
    "    ct = ' '.join(word.strip() for word in hashes)\n",
    "    return ct\n",
    "def stripspacesunwanted(input):\n",
    "    ct = ' '.join(input.split())\n",
    "    ct = re.sub(r' +', ' ', ct)\n",
    "    return re.sub(r'\\d+', '', ct)"
   ]
  },
  {
   "cell_type": "code",
   "execution_count": 12,
   "id": "643f6926",
   "metadata": {},
   "outputs": [],
   "source": [
    "# Driver Function to clean the reviews\n",
    "def textcleanline(input):\n",
    "    input = stripofimonji(input)\n",
    "    input = stripnewline(input)\n",
    "    input = striplinks(input)\n",
    "    input = stripNonASCII(input)\n",
    "    input = stripsymbols(input)\n",
    "    input = striphastags(input)\n",
    "    input = stripspacesunwanted(input)\n",
    "    return input"
   ]
  },
  {
   "cell_type": "code",
   "execution_count": 13,
   "id": "2c2625b0",
   "metadata": {},
   "outputs": [
    {
     "name": "stderr",
     "output_type": "stream",
     "text": [
      "100%|██████████████████████████████████████████████████████████████████████████| 49582/49582 [00:19<00:00, 2528.04it/s]\n"
     ]
    }
   ],
   "source": [
    "dataset['cleanedText'] = dataset['review'].progress_apply(textcleanline)"
   ]
  },
  {
   "cell_type": "markdown",
   "id": "a3a8d9c2",
   "metadata": {},
   "source": [
    "###  NLP pre processing  pipeline and word Embedding(word2vec)- Ramanathan"
   ]
  },
  {
   "cell_type": "code",
   "execution_count": 14,
   "id": "24827fa9",
   "metadata": {},
   "outputs": [],
   "source": [
    "# we used tokinization and stopword removal with lematization to bring important individual words to its cannoniacal form\n",
    "def stopwordremoval(input):\n",
    "    return [j for j in input if j not in stopwords]\n",
    "def lemmatization(input):\n",
    "    return [WordNetLemmatizer().lemmatize(k) for k in input]\n",
    "def tokenizer(input):\n",
    "    return word_tokenize(input)"
   ]
  },
  {
   "cell_type": "code",
   "execution_count": 15,
   "id": "4181b0a4",
   "metadata": {},
   "outputs": [],
   "source": [
    "# Driver Function to NLP preprocess the reviews\n",
    "def NLPpreprocess(input):\n",
    "    hens = tokenizer(input)\n",
    "    removed = stopwordremoval(hens)\n",
    "    le = lemmatization(removed)\n",
    "    return ' '.join(le)"
   ]
  },
  {
   "cell_type": "code",
   "execution_count": 16,
   "id": "98260bf1",
   "metadata": {},
   "outputs": [
    {
     "name": "stderr",
     "output_type": "stream",
     "text": [
      "100%|███████████████████████████████████████████████████████████████████████████| 49582/49582 [00:50<00:00, 981.55it/s]\n"
     ]
    }
   ],
   "source": [
    "dataset['processed'] = dataset['cleanedText'].progress_apply(NLPpreprocess)"
   ]
  },
  {
   "cell_type": "code",
   "execution_count": 17,
   "id": "81f0ddb1",
   "metadata": {},
   "outputs": [
    {
     "data": {
      "text/html": [
       "<div>\n",
       "<style scoped>\n",
       "    .dataframe tbody tr th:only-of-type {\n",
       "        vertical-align: middle;\n",
       "    }\n",
       "\n",
       "    .dataframe tbody tr th {\n",
       "        vertical-align: top;\n",
       "    }\n",
       "\n",
       "    .dataframe thead th {\n",
       "        text-align: right;\n",
       "    }\n",
       "</style>\n",
       "<table border=\"1\" class=\"dataframe\">\n",
       "  <thead>\n",
       "    <tr style=\"text-align: right;\">\n",
       "      <th></th>\n",
       "      <th>review</th>\n",
       "      <th>sentiment</th>\n",
       "      <th>cleanedText</th>\n",
       "      <th>processed</th>\n",
       "    </tr>\n",
       "  </thead>\n",
       "  <tbody>\n",
       "    <tr>\n",
       "      <th>0</th>\n",
       "      <td>One of the other reviewers has mentioned that ...</td>\n",
       "      <td>positive</td>\n",
       "      <td>One of the other reviewers has mentioned that ...</td>\n",
       "      <td>One reviewer mentioned watching Oz episode you...</td>\n",
       "    </tr>\n",
       "    <tr>\n",
       "      <th>1</th>\n",
       "      <td>A wonderful little production. &lt;br /&gt;&lt;br /&gt;The...</td>\n",
       "      <td>positive</td>\n",
       "      <td>A wonderful little production The filming tech...</td>\n",
       "      <td>A wonderful little production The filming tech...</td>\n",
       "    </tr>\n",
       "    <tr>\n",
       "      <th>2</th>\n",
       "      <td>I thought this was a wonderful way to spend ti...</td>\n",
       "      <td>positive</td>\n",
       "      <td>I thought this was a wonderful way to spend ti...</td>\n",
       "      <td>I thought wonderful way spend time hot summer ...</td>\n",
       "    </tr>\n",
       "    <tr>\n",
       "      <th>3</th>\n",
       "      <td>Basically there's a family where a little boy ...</td>\n",
       "      <td>negative</td>\n",
       "      <td>Basically theres a family where a little boy J...</td>\n",
       "      <td>Basically there family little boy Jake think t...</td>\n",
       "    </tr>\n",
       "    <tr>\n",
       "      <th>4</th>\n",
       "      <td>Petter Mattei's \"Love in the Time of Money\" is...</td>\n",
       "      <td>positive</td>\n",
       "      <td>Petter Matteis Love in the Time of Money is a ...</td>\n",
       "      <td>Petter Matteis Love Time Money visually stunni...</td>\n",
       "    </tr>\n",
       "  </tbody>\n",
       "</table>\n",
       "</div>"
      ],
      "text/plain": [
       "                                              review sentiment  \\\n",
       "0  One of the other reviewers has mentioned that ...  positive   \n",
       "1  A wonderful little production. <br /><br />The...  positive   \n",
       "2  I thought this was a wonderful way to spend ti...  positive   \n",
       "3  Basically there's a family where a little boy ...  negative   \n",
       "4  Petter Mattei's \"Love in the Time of Money\" is...  positive   \n",
       "\n",
       "                                         cleanedText  \\\n",
       "0  One of the other reviewers has mentioned that ...   \n",
       "1  A wonderful little production The filming tech...   \n",
       "2  I thought this was a wonderful way to spend ti...   \n",
       "3  Basically theres a family where a little boy J...   \n",
       "4  Petter Matteis Love in the Time of Money is a ...   \n",
       "\n",
       "                                           processed  \n",
       "0  One reviewer mentioned watching Oz episode you...  \n",
       "1  A wonderful little production The filming tech...  \n",
       "2  I thought wonderful way spend time hot summer ...  \n",
       "3  Basically there family little boy Jake think t...  \n",
       "4  Petter Matteis Love Time Money visually stunni...  "
      ]
     },
     "execution_count": 17,
     "metadata": {},
     "output_type": "execute_result"
    }
   ],
   "source": [
    "dataset.head()"
   ]
  },
  {
   "cell_type": "code",
   "execution_count": 18,
   "id": "94179def",
   "metadata": {},
   "outputs": [],
   "source": [
    "# Labelling sentiment to 1 and 0 for binary classification\n",
    "dataset['label'] = dataset['sentiment'].replace({'positive': 1, 'negative': 0})"
   ]
  },
  {
   "cell_type": "code",
   "execution_count": 19,
   "id": "582277b7",
   "metadata": {},
   "outputs": [],
   "source": [
    "# Dropped columns that are not use full.\n",
    "desired_columns = ['processed', 'label']\n",
    "dataset = dataset[desired_columns]"
   ]
  },
  {
   "cell_type": "code",
   "execution_count": 20,
   "id": "45b844ad",
   "metadata": {},
   "outputs": [
    {
     "data": {
      "text/html": [
       "<div>\n",
       "<style scoped>\n",
       "    .dataframe tbody tr th:only-of-type {\n",
       "        vertical-align: middle;\n",
       "    }\n",
       "\n",
       "    .dataframe tbody tr th {\n",
       "        vertical-align: top;\n",
       "    }\n",
       "\n",
       "    .dataframe thead th {\n",
       "        text-align: right;\n",
       "    }\n",
       "</style>\n",
       "<table border=\"1\" class=\"dataframe\">\n",
       "  <thead>\n",
       "    <tr style=\"text-align: right;\">\n",
       "      <th></th>\n",
       "      <th>processed</th>\n",
       "      <th>label</th>\n",
       "    </tr>\n",
       "  </thead>\n",
       "  <tbody>\n",
       "    <tr>\n",
       "      <th>0</th>\n",
       "      <td>One reviewer mentioned watching Oz episode you...</td>\n",
       "      <td>1</td>\n",
       "    </tr>\n",
       "    <tr>\n",
       "      <th>1</th>\n",
       "      <td>A wonderful little production The filming tech...</td>\n",
       "      <td>1</td>\n",
       "    </tr>\n",
       "    <tr>\n",
       "      <th>2</th>\n",
       "      <td>I thought wonderful way spend time hot summer ...</td>\n",
       "      <td>1</td>\n",
       "    </tr>\n",
       "    <tr>\n",
       "      <th>3</th>\n",
       "      <td>Basically there family little boy Jake think t...</td>\n",
       "      <td>0</td>\n",
       "    </tr>\n",
       "    <tr>\n",
       "      <th>4</th>\n",
       "      <td>Petter Matteis Love Time Money visually stunni...</td>\n",
       "      <td>1</td>\n",
       "    </tr>\n",
       "  </tbody>\n",
       "</table>\n",
       "</div>"
      ],
      "text/plain": [
       "                                           processed  label\n",
       "0  One reviewer mentioned watching Oz episode you...      1\n",
       "1  A wonderful little production The filming tech...      1\n",
       "2  I thought wonderful way spend time hot summer ...      1\n",
       "3  Basically there family little boy Jake think t...      0\n",
       "4  Petter Matteis Love Time Money visually stunni...      1"
      ]
     },
     "execution_count": 20,
     "metadata": {},
     "output_type": "execute_result"
    }
   ],
   "source": [
    "dataset.head()"
   ]
  },
  {
   "cell_type": "code",
   "execution_count": 21,
   "id": "66c53237",
   "metadata": {},
   "outputs": [],
   "source": [
    "# This Whole code block was used in my own previous project for creating vocabulary(BagOfWords) and padding\n",
    "def pad_sequences(tokenizedphrases, minilen):\n",
    "    pf = np.zeros((len(tokenizedphrases), minilen), dtype = int)\n",
    "    for i, tokenized in enumerate(tokenizedphrases):\n",
    "        if len(tokenized) <= minilen:\n",
    "            padding = list(np.zeros(minilen - len(tokenized)))\n",
    "            new_sequence = padding + tokenized\n",
    "        else:\n",
    "            new_sequence = tokenized[: minilen]\n",
    "        pf[i, :] = np.array(new_sequence)\n",
    "    return pf\n",
    "\n",
    "def vocabularydesign(inputc):\n",
    "    phrase_ = Counter([word for statement in inputc for word in statement.split()])\n",
    "    com = phrase_.most_common()\n",
    "    county = {word: i+1 for i, (word, count) in enumerate(com)}\n",
    "    return county\n",
    "\n",
    "def phrasetoknization(inputc, county):\n",
    "    tokenizedphrases = []\n",
    "    for statement in inputc:\n",
    "        tokenized = [county[word] for word in statement.split()]\n",
    "        tokenizedphrases.append(tokenized)\n",
    "    return tokenizedphrases\n",
    "\n",
    "def NLPVocab(inputc, minilen):\n",
    "    wti = vocabularydesign(inputc)\n",
    "    tt = phrasetoknization(inputc, wti)\n",
    "    pf = pad_sequences(tt, minilen)\n",
    "    return wti, pf"
   ]
  },
  {
   "cell_type": "code",
   "execution_count": 22,
   "id": "ad4d3b7e",
   "metadata": {},
   "outputs": [],
   "source": [
    "# Driver function for padding and vocabulary creation\n",
    "torchlen = 128\n",
    "torchdim = 128\n",
    "lex, torchcol = NLPVocab(dataset['processed'], torchlen)# torchcol has preprocessed and padded IMDB reviews."
   ]
  },
  {
   "cell_type": "code",
   "execution_count": 23,
   "id": "7e007148",
   "metadata": {},
   "outputs": [],
   "source": [
    "x = dataset['processed']\n",
    "y = dataset['label']\n",
    "x_train, x_test, y_train, y_test = train_test_split(x, y, test_size = 0.2, stratify = y, random_state = 32)\n",
    "x_train, x_valid, y_train, y_valid = train_test_split(x_train, y_train, test_size = 0.1, stratify = y_train, random_state = 32)"
   ]
  },
  {
   "cell_type": "code",
   "execution_count": 24,
   "id": "24e19144",
   "metadata": {},
   "outputs": [],
   "source": [
    "# word embeddings from large datasets, used word2vec.\n",
    "forvector = [phrase.split() for phrase in x_train]\n",
    "vector = Word2Vec(forvector, vector_size = torchdim)"
   ]
  },
  {
   "cell_type": "code",
   "execution_count": 25,
   "id": "9cffb47f",
   "metadata": {},
   "outputs": [],
   "source": [
    "torchsize = len(lex)+1\n",
    "batch_size = 64"
   ]
  },
  {
   "cell_type": "code",
   "execution_count": 27,
   "id": "279f6787",
   "metadata": {},
   "outputs": [
    {
     "name": "stdout",
     "output_type": "stream",
     "text": [
      "Embedding Matrix : (240023, 128)\n"
     ]
    }
   ],
   "source": [
    "# Embedding Matrix shape produced using word2vec\n",
    "matrix = np.zeros((torchsize, torchdim))   \n",
    "for g, index in lex.items():\n",
    "    if vector.wv.__contains__(g):\n",
    "        matrix[index] = vector.wv.__getitem__(g)\n",
    "print(\"Embedding Matrix :\", matrix.shape)"
   ]
  },
  {
   "cell_type": "markdown",
   "id": "98362bf8",
   "metadata": {},
   "source": [
    "### Bi-LSTM Model - Ramanathan"
   ]
  },
  {
   "cell_type": "code",
   "execution_count": 28,
   "id": "266398b4",
   "metadata": {},
   "outputs": [],
   "source": [
    "ram = 'cuda' if torch.cuda.is_available() else 'cpu'\n",
    "seed = 32"
   ]
  },
  {
   "cell_type": "code",
   "execution_count": 29,
   "id": "0075ed3e",
   "metadata": {},
   "outputs": [],
   "source": [
    "# Train, validation and test split\n",
    "x = torchcol # has preprocessed and padded IMDB reviews.\n",
    "y = dataset['label'].values\n",
    "x_train, x_test, y_train, y_test = train_test_split(x, y, test_size = 0.2, stratify = y, random_state = seed)\n",
    "x_train, x_valid, y_train, y_valid = train_test_split(x_train, y_train, test_size = 0.1, stratify = y_train, random_state = seed)"
   ]
  },
  {
   "cell_type": "code",
   "execution_count": 30,
   "id": "02b5a744",
   "metadata": {},
   "outputs": [
    {
     "name": "stdout",
     "output_type": "stream",
     "text": [
      "Feature Shapes:\n",
      "Train set: (35698, 128)\n",
      "Validation set: (3967, 128)\n",
      "Test set: (9917, 128)\n"
     ]
    }
   ],
   "source": [
    "print('Feature Shapes:')\n",
    "print('Train set: {}'.format(x_train.shape))\n",
    "print('Validation set: {}'.format(x_valid.shape))\n",
    "print('Test set: {}'.format(x_test.shape))"
   ]
  },
  {
   "cell_type": "code",
   "execution_count": 31,
   "id": "36672ecc",
   "metadata": {},
   "outputs": [],
   "source": [
    "# Loading preproccesed dataset as tensor set into the model loaders.\n",
    "trainset  = TensorDataset(torch.from_numpy(x_train), torch.from_numpy(y_train))\n",
    "trainloader  = DataLoader(trainset, shuffle = True, batch_size = batch_size)\n",
    "\n",
    "validset  = TensorDataset(torch.from_numpy(x_valid), torch.from_numpy(y_valid))\n",
    "vallloader = DataLoader(validset, shuffle = True, batch_size = batch_size)\n",
    "\n",
    "testset  = TensorDataset(torch.from_numpy(x_test), torch.from_numpy(y_test))\n",
    "testloader  = DataLoader(testset, shuffle = True, batch_size = batch_size)"
   ]
  },
  {
   "cell_type": "code",
   "execution_count": 32,
   "id": "2478c79e",
   "metadata": {},
   "outputs": [],
   "source": [
    "drop = 0.2 \n",
    "layers = 3 \n",
    "epoch = 8 \n",
    "BIDIRECTIONAL = True \n",
    "neuron = 128 "
   ]
  },
  {
   "cell_type": "code",
   "execution_count": 33,
   "id": "f257be11",
   "metadata": {},
   "outputs": [],
   "source": [
    "# LSTM Model Definition, Modified from my own code from my previous project for this project.\n",
    "class LSTMIMDB(nn.Module):\n",
    "    def __init__(self, tsize, tdim, hiddenl, ll, directmeasure, dp, cluster):\n",
    "        super(LSTMIMDB, self).__init__()\n",
    "        self.directions = 2\n",
    "        self.cluster = cluster\n",
    "        self.hiddenl = hiddenl\n",
    "        self.ll = ll\n",
    "        self.embedding = nn.Embedding(tsize, tdim)\n",
    "        self.lstm = nn.LSTM(tdim, hiddenl, bidirectional = directmeasure, num_layers = ll, dropout = dp, batch_first = True)\n",
    "        self.fc = nn.Linear(self.directions * hiddenl, 2)\n",
    "        self.softmax = nn.LogSoftmax(dim = 1)\n",
    "        \n",
    "    def forward(self, ra, confidence):\n",
    "        self.cluster = ra.size(0)\n",
    "        dmm = self.embedding(ra)\n",
    "        output, confidence = self.lstm(dmm, confidence)\n",
    "        output = output[:, -1, :]\n",
    "        output = self.fc(output)\n",
    "        output = self.softmax(output)\n",
    "        return output, confidence\n",
    "\n",
    "    def hid(self, cluster):\n",
    "        confidence_h = torch.zeros((self.ll * 2, cluster, self.hiddenl)).detach().to(ram)\n",
    "        confidence_c = torch.zeros((self.ll * 2, cluster, self.hiddenl)).detach().to(ram)\n",
    "        confidence = (confidence_h, confidence_c)\n",
    "        return confidence"
   ]
  },
  {
   "cell_type": "code",
   "execution_count": 34,
   "id": "b2b9b902",
   "metadata": {},
   "outputs": [
    {
     "name": "stdout",
     "output_type": "stream",
     "text": [
      "LSTMIMDB(\n",
      "  (embedding): Embedding(240023, 128)\n",
      "  (lstm): LSTM(128, 128, num_layers=3, batch_first=True, dropout=0.2, bidirectional=True)\n",
      "  (fc): Linear(in_features=256, out_features=2, bias=True)\n",
      "  (softmax): LogSoftmax(dim=1)\n",
      ")\n"
     ]
    }
   ],
   "source": [
    "modellstm = LSTMIMDB(torchsize, torchdim, neuron, layers, BIDIRECTIONAL, drop, batch_size)\n",
    "modellstm.embedding.weight.requires_grad = True\n",
    "modellstm = modellstm.to(ram)\n",
    "modellstm.embedding.weight.data.copy_(torch.from_numpy(matrix))\n",
    "print(modellstm)"
   ]
  },
  {
   "cell_type": "code",
   "execution_count": 35,
   "id": "b8a39b77",
   "metadata": {},
   "outputs": [],
   "source": [
    "# Loss funtion and optimzer for LSTM\n",
    "lossy = nn.NLLLoss()\n",
    "enhancer = op.AdamW(modellstm.parameters())"
   ]
  },
  {
   "cell_type": "code",
   "execution_count": 36,
   "id": "4c41af17",
   "metadata": {},
   "outputs": [
    {
     "name": "stderr",
     "output_type": "stream",
     "text": [
      "Epoch 1 - Training: 100%|████████████████████████████████████████████████████████████| 558/558 [07:23<00:00,  1.26it/s]\n"
     ]
    },
    {
     "name": "stdout",
     "output_type": "stream",
     "text": [
      "Epoch  1 : Improvement detected 0.000 to 76.557 --- To Torch Save\n",
      "\tTraining Accuracy  : 80.66% Validation Accuracy  : 76.56%\n",
      "\tTraining Loss  : 0.43 Validation Loss  : 0.47\n"
     ]
    },
    {
     "name": "stderr",
     "output_type": "stream",
     "text": [
      "Epoch 2 - Training: 100%|████████████████████████████████████████████████████████████| 558/558 [07:10<00:00,  1.29it/s]\n"
     ]
    },
    {
     "name": "stdout",
     "output_type": "stream",
     "text": [
      "Epoch  2 : Improvement detected 76.557 to 88.001 --- To Torch Save\n",
      "\tTraining Accuracy  : 88.43% Validation Accuracy  : 88.00%\n",
      "\tTraining Loss  : 0.29 Validation Loss  : 0.31\n"
     ]
    },
    {
     "name": "stderr",
     "output_type": "stream",
     "text": [
      "Epoch 3 - Training: 100%|████████████████████████████████████████████████████████████| 558/558 [07:11<00:00,  1.29it/s]\n"
     ]
    },
    {
     "name": "stdout",
     "output_type": "stream",
     "text": [
      "Epoch  3 : No improvement\n",
      "\tTraining Accuracy  : 95.82% Validation Accuracy  : 87.12%\n",
      "\tTraining Loss  : 0.12 Validation Loss  : 0.39\n"
     ]
    },
    {
     "name": "stderr",
     "output_type": "stream",
     "text": [
      "Epoch 4 - Training: 100%|████████████████████████████████████████████████████████████| 558/558 [07:11<00:00,  1.29it/s]\n"
     ]
    },
    {
     "name": "stdout",
     "output_type": "stream",
     "text": [
      "Epoch  4 : No improvement\n",
      "\tTraining Accuracy  : 99.46% Validation Accuracy  : 84.12%\n",
      "\tTraining Loss  : 0.02 Validation Loss  : 0.57\n"
     ]
    },
    {
     "name": "stderr",
     "output_type": "stream",
     "text": [
      "Epoch 5 - Training: 100%|████████████████████████████████████████████████████████████| 558/558 [07:12<00:00,  1.29it/s]\n"
     ]
    },
    {
     "name": "stdout",
     "output_type": "stream",
     "text": [
      "Epoch  5 : No improvement\n",
      "\tTraining Accuracy  : 99.92% Validation Accuracy  : 81.90%\n",
      "\tTraining Loss  : 0.00 Validation Loss  : 0.79\n"
     ]
    },
    {
     "name": "stderr",
     "output_type": "stream",
     "text": [
      "Epoch 6 - Training: 100%|████████████████████████████████████████████████████████████| 558/558 [07:11<00:00,  1.29it/s]\n"
     ]
    },
    {
     "name": "stdout",
     "output_type": "stream",
     "text": [
      "Epoch  6 : No improvement\n"
     ]
    }
   ],
   "source": [
    "# LSTM training and validation loops were modified from my own code from my previous project for this project.\n",
    "# Used early stopping if accuracy is not improving in 3 consecutive appproaches for saving resources.\n",
    "esp = 3\n",
    "esc = 0\n",
    "vmax = 0\n",
    "ST = len(trainloader)\n",
    "ST_val = len(vallloader)\n",
    "\n",
    "for k in range(epoch):\n",
    "    train_target, validtrgt = [], []\n",
    "    lstr, lossvl  = [], []\n",
    "    act, acvd  = [], []\n",
    "    c, c_val = 0, 0\n",
    "    t, t_val = 0, 0\n",
    "    rl, rl_val = 0, 0\n",
    "    modellstm.train()\n",
    "    trainloader = tqdm(trainloader, desc=f'Epoch {k+1} - Training')\n",
    "    for i, l in trainloader:\n",
    "        i, l = i.to(ram), l.to(ram)\n",
    "        h = modellstm.hid(l.size(0))\n",
    "        modellstm.zero_grad() \n",
    "        op, h = modellstm(i,h) \n",
    "        totlss = lossy(op, l)\n",
    "        totlss.backward()\n",
    "        rl += totlss.item()\n",
    "        enhancer.step()\n",
    "        trainprdy = torch.argmax(op, dim=1) \n",
    "        train_target.extend(trainprdy.squeeze().tolist())  \n",
    "        c += torch.sum(trainprdy==l).item() \n",
    "        t += l.size(0)\n",
    "    lstr.append(rl / ST)\n",
    "    act.append(100 * c / t)    \n",
    "    \n",
    "    with torch.no_grad():\n",
    "        modellstm.eval()\n",
    "        for i, l in vallloader:\n",
    "            i, l = i.to(ram), l.to(ram)\n",
    "            hidv = modellstm.hid(l.size(0))\n",
    "            modelop,hidv = modellstm(i,hidv)\n",
    "            totvl = lossy(modelop, l)\n",
    "            rl_val += totvl.item()\n",
    "            predictvaly = torch.argmax(modelop, dim=1)\n",
    "            validtrgt.extend(predictvaly.squeeze().tolist())\n",
    "            c_val += torch.sum(predictvaly==l).item()\n",
    "            t_val += l.size(0)\n",
    "        lossvl.append(rl_val / ST_val)\n",
    "        acvd.append(100 * c_val / t_val)\n",
    "\n",
    "    if np.mean(acvd) >= vmax:\n",
    "        torch.save(modellstm.state_dict(), './LSTM.pt')\n",
    "        print(f'Epoch  {k+1} : Improvement detected {vmax:.3f} to {np.mean(acvd):.3f} --- To Torch Save')\n",
    "        vmax = np.mean(acvd)\n",
    "        esc=0\n",
    "    else:\n",
    "        print(f'Epoch  {k+1} : No improvement')\n",
    "        esc+=1\n",
    "        \n",
    "    if esc > esp:\n",
    "        break\n",
    "        \n",
    "    print(f'\\tTraining Accuracy  : {np.mean(act):.2f}% Validation Accuracy  : {np.mean(acvd):.2f}%')\n",
    "    print(f'\\tTraining Loss  : {np.mean(lstr):.2f} Validation Loss  : {np.mean(lossvl):.2f}')"
   ]
  },
  {
   "cell_type": "code",
   "execution_count": 37,
   "id": "67c43b41",
   "metadata": {},
   "outputs": [],
   "source": [
    "#Loading the saved model using torch\n",
    "modellstm.load_state_dict(torch.load('./LSTM.pt'))\n",
    "\n",
    "with torch.no_grad():\n",
    "    modellstm.eval()\n",
    "    predictions = []\n",
    "    predictees = []\n",
    "    for info, match in testloader:\n",
    "        info, match = info.to(ram), match.to(ram)\n",
    "        confi = modellstm.hid(match.size(0))\n",
    "        goal, h = modellstm(info, confi)\n",
    "        pred = torch.argmax(goal, dim = 1)\n",
    "        predictions.extend(pred.squeeze().tolist())\n",
    "        predictees.extend(match.squeeze().tolist())"
   ]
  },
  {
   "cell_type": "code",
   "execution_count": 38,
   "id": "f072cb87",
   "metadata": {},
   "outputs": [
    {
     "name": "stdout",
     "output_type": "stream",
     "text": [
      "Classification Report for Bidirectional-LSTM :\n",
      "               precision    recall  f1-score   support\n",
      "\n",
      "    positive       0.85      0.89      0.87      4940\n",
      "    negative       0.89      0.85      0.87      4977\n",
      "\n",
      "    accuracy                           0.87      9917\n",
      "   macro avg       0.87      0.87      0.87      9917\n",
      "weighted avg       0.87      0.87      0.87      9917\n",
      "\n"
     ]
    }
   ],
   "source": [
    "labell = [\"positive\", \"negative\"]\n",
    "print('Classification Report for Bidirectional-LSTM :\\n', classification_report(predictees,  predictions, target_names = labell))"
   ]
  },
  {
   "cell_type": "code",
   "execution_count": 45,
   "id": "af64325f",
   "metadata": {},
   "outputs": [
    {
     "name": "stdout",
     "output_type": "stream",
     "text": [
      "Bi-LSTM Accuracy: 86.82061107189675\n"
     ]
    }
   ],
   "source": [
    "print(\"Bi-LSTM Accuracy:\", accuracy_score(predictees,  predictions)*100)"
   ]
  },
  {
   "cell_type": "code",
   "execution_count": 62,
   "id": "d891bb4a",
   "metadata": {},
   "outputs": [
    {
     "data": {
      "image/png": "[encoded data removed]",
      "text/plain": [
       "<Figure size 900x400 with 2 Axes>"
      ]
     },
     "metadata": {},
     "output_type": "display_data"
    }
   ],
   "source": [
    "epochs_8 = list(range(1, 9))\n",
    "accuracies_8 = [76.71, 87.77, 87.65, 86.09, 85.72, 84.05, 84.17, 83.92]\n",
    "losses_8 = [0.36, 0.33, 0.38, 0.41, 0.56, 0.69, 0.63, 0.58]\n",
    "train_accuracies_8 = [78.92, 88.15, 94.65, 98.75, 99.73, 99.92, 99.93,99.94]\n",
    "train_losses_8 = [0.45, 0.29, 0.15, 0.09, 0.04, 0.02, 0.00, 0.00]\n",
    "plt.figure(figsize=(9, 4))\n",
    "plt.subplot(1, 2, 1)\n",
    "plt.plot(epochs_8, accuracies_8, label='Validation Accuracy')\n",
    "plt.plot(epochs_8, train_accuracies_8, label='Training Accuracy')\n",
    "plt.xlabel('Epoch')\n",
    "plt.ylabel('Accuracy')\n",
    "plt.title('Bi-LSTM Validation and Training Accuracy')\n",
    "plt.legend()\n",
    "plt.subplot(1, 2, 2)\n",
    "plt.plot(epochs_8, losses_8, label='Validation Loss')\n",
    "plt.plot(epochs_8, train_losses_8, label='Training Loss')\n",
    "plt.xlabel('Epoch')\n",
    "plt.ylabel('Loss')\n",
    "plt.title('Bi-LSTM Validation and Training Loss')\n",
    "plt.legend()\n",
    "plt.tight_layout()\n",
    "plt.show()"
   ]
  },
  {
   "cell_type": "markdown",
   "id": "bbead6ce",
   "metadata": {},
   "source": [
    "### GRU MODEL - Rakshitha"
   ]
  },
  {
   "cell_type": "code",
   "execution_count": 47,
   "id": "705d3fe2",
   "metadata": {},
   "outputs": [],
   "source": [
    "# GRU Model\n",
    "class GRUModel(nn.Module):\n",
    "    def __init__(self, vocab_size, embedding_dim, hidden_dim, output_dim, bidirectional=True, dropout=0.5):\n",
    "        super(GRUModel, self).__init__()\n",
    "        self.embedding = nn.Embedding(vocab_size, embedding_dim)\n",
    "        self.gru = nn.GRU(embedding_dim, hidden_dim, batch_first=True, bidirectional=bidirectional)\n",
    "        self.fc = nn.Linear(hidden_dim * 2 if bidirectional else hidden_dim, output_dim)\n",
    "        self.dropout = nn.Dropout(dropout)\n",
    "\n",
    "    def forward(self, text):\n",
    "        embedded = self.embedding(text)\n",
    "        embedded = self.dropout(embedded)\n",
    "        output, hidden = self.gru(embedded)\n",
    "        output = self.fc(output[:, -1, :])\n",
    "        return output"
   ]
  },
  {
   "cell_type": "code",
   "execution_count": 48,
   "id": "f8109e99",
   "metadata": {},
   "outputs": [],
   "source": [
    "# Used 8 epochs and rest of the parameters are same, so we can compare both LSTM, GRU model in the same bases with same resources.\n",
    "hidden_dim = 128\n",
    "output_dim = 1\n",
    "bidirectional = True\n",
    "dropout = 0.5\n",
    "lr = 0.001\n",
    "batch_size = 128\n",
    "num_epochs = 8"
   ]
  },
  {
   "cell_type": "code",
   "execution_count": 49,
   "id": "2d86d262",
   "metadata": {},
   "outputs": [],
   "source": [
    "# Spliting the dataset into train, validation, and test sets\n",
    "x_train, x_temp, y_train, y_temp = train_test_split(torchcol, dataset['label'].values, test_size=0.2, stratify=dataset['label'].values, random_state = seed)\n",
    "x_valid, x_test, y_valid, y_test = train_test_split(x_temp, y_temp, test_size=0.5, stratify=y_temp, random_state = seed)\n",
    "\n",
    "# Creating tensor datasets and dataloaders\n",
    "train_dataset = TensorDataset(torch.from_numpy(x_train), torch.from_numpy(y_train))\n",
    "train_loader = DataLoader(train_dataset, shuffle=True, batch_size=batch_size)\n",
    "\n",
    "valid_dataset = TensorDataset(torch.from_numpy(x_valid), torch.from_numpy(y_valid))\n",
    "valid_loader = DataLoader(valid_dataset, shuffle=False, batch_size=batch_size)\n",
    "\n",
    "test_dataset = TensorDataset(torch.from_numpy(x_test), torch.from_numpy(y_test))\n",
    "test_loader = DataLoader(test_dataset, shuffle=False, batch_size=batch_size)"
   ]
  },
  {
   "cell_type": "code",
   "execution_count": 50,
   "id": "fc78afd7",
   "metadata": {},
   "outputs": [],
   "source": [
    "# Intializing model and defining the train and validation loops.\n",
    "model = GRUModel(torchsize, torchdim, hidden_dim, output_dim, bidirectional=bidirectional, dropout=dropout)\n",
    "import torch.optim as optim\n",
    "criterion = nn.BCEWithLogitsLoss()\n",
    "optimizer = optim.Adam(model.parameters(), lr=lr)\n",
    "\n",
    "# Function to calculate accuracy\n",
    "def binary_accuracy(preds, y):\n",
    "    rounded_preds = torch.round(torch.sigmoid(preds))\n",
    "    correct = (rounded_preds == y).float()\n",
    "    acc = correct.sum() / len(correct)\n",
    "    return acc\n",
    "\n",
    "# Function to train the model\n",
    "def train(model, iterator, optimizer, criterion):\n",
    "    model.train()\n",
    "    epoch_loss = 0\n",
    "    epoch_acc = 0\n",
    "    for batch_text, batch_labels in iterator:\n",
    "        optimizer.zero_grad()\n",
    "        predictions = model(batch_text).squeeze(1)\n",
    "        loss = criterion(predictions, batch_labels.float())\n",
    "        acc = binary_accuracy(predictions, batch_labels)\n",
    "        loss.backward()\n",
    "        optimizer.step()\n",
    "        epoch_loss += loss.item()\n",
    "        epoch_acc += acc.item()\n",
    "    return epoch_loss / len(iterator), epoch_acc / len(iterator)\n",
    "\n",
    "# Function to evaluate the model\n",
    "def evaluate(model, iterator, criterion):\n",
    "    model.eval()\n",
    "    epoch_loss = 0\n",
    "    epoch_acc = 0\n",
    "\n",
    "    with torch.no_grad():\n",
    "        for batch_text, batch_labels in iterator:\n",
    "            predictions = model(batch_text).squeeze(1)\n",
    "            loss = criterion(predictions, batch_labels.float())\n",
    "            acc = binary_accuracy(predictions, batch_labels)\n",
    "            epoch_loss += loss.item()\n",
    "            epoch_acc += acc.item()\n",
    "\n",
    "    return epoch_loss / len(iterator), epoch_acc / len(iterator)"
   ]
  },
  {
   "cell_type": "code",
   "execution_count": 46,
   "id": "6dab0b97",
   "metadata": {},
   "outputs": [
    {
     "name": "stdout",
     "output_type": "stream",
     "text": [
      "Epoch Number 1:\n",
      "\tTraining Accuracy  : 61.59% Validation Accuracy  : 64.30%\n",
      "\tTraining Loss  : 0.64 Validation Loss  : 0.69\n",
      "Epoch Number 2:\n",
      "\tTraining Accuracy  : 76.69% Validation Accuracy  : 76.16%\n",
      "\tTraining Loss  : 0.50 Validation Loss  : 0.63\n",
      "Epoch Number 3:\n",
      "\tTraining Accuracy  : 81.87% Validation Accuracy  : 77.73%\n",
      "\tTraining Loss  : 0.41 Validation Loss  : 0.64\n",
      "Epoch Number 4:\n",
      "\tTraining Accuracy  : 85.01% Validation Accuracy  : 80.67%\n",
      "\tTraining Loss  : 0.35 Validation Loss  : 0.64\n",
      "Epoch Number 5:\n",
      "\tTraining Accuracy  : 87.27% Validation Accuracy  : 82.92%\n",
      "\tTraining Loss  : 0.30 Validation Loss  : 0.58\n",
      "Epoch Number 6:\n",
      "\tTraining Accuracy  : 88.69% Validation Accuracy  : 82.99%\n",
      "\tTraining Loss  : 0.28 Validation Loss  : 0.65\n",
      "Epoch Number 7:\n",
      "\tTraining Accuracy  : 89.95% Validation Accuracy  : 83.68%\n",
      "\tTraining Loss  : 0.25 Validation Loss  : 0.65\n",
      "Epoch Number 8:\n",
      "\tTraining Accuracy  : 90.83% Validation Accuracy  : 84.53%\n",
      "\tTraining Loss  : 0.22 Validation Loss  : 0.68\n"
     ]
    }
   ],
   "source": [
    "# Driver function for training and validation loops\n",
    "best_valid_loss = float('inf')\n",
    "for epoch in range(num_epochs):\n",
    "    train_loss, train_acc = train(model, train_loader, optimizer, criterion)\n",
    "    valid_loss, valid_acc = evaluate(model, valid_loader, criterion)\n",
    "# We only saved the best epoch as our model\n",
    "    if valid_loss < best_valid_loss:\n",
    "        best_valid_loss = valid_loss\n",
    "        torch.save(model.state_dict(), 'GRU.pt')\n",
    "\n",
    "    print(f'Epoch Number {epoch+1}:')    \n",
    "    print(f'\\tTraining Accuracy  : {train_acc*100:.2f}% Validation Accuracy  : {valid_acc*100:.2f}%')\n",
    "    print(f'\\tTraining Loss  : {train_loss:.2f} Validation Loss  : {valid_loss:.2f}')"
   ]
  },
  {
   "cell_type": "code",
   "execution_count": 51,
   "id": "e5fe5b88",
   "metadata": {},
   "outputs": [
    {
     "name": "stdout",
     "output_type": "stream",
     "text": [
      "GRU Accuracy: 83.27%\n"
     ]
    }
   ],
   "source": [
    "# Load the best model using torch and evaluate on test set\n",
    "model.load_state_dict(torch.load('GRU.pt'))\n",
    "test_loss, test_acc = evaluate(model, test_loader, criterion)\n",
    "print(f'GRU Accuracy: {test_acc*100:.2f}%')"
   ]
  },
  {
   "cell_type": "code",
   "execution_count": 63,
   "id": "5d539e52",
   "metadata": {},
   "outputs": [
    {
     "data": {
      "image/png": "[encoded data removed]",
      "text/plain": [
       "<Figure size 900x400 with 2 Axes>"
      ]
     },
     "metadata": {},
     "output_type": "display_data"
    }
   ],
   "source": [
    "epochs_10 = list(range(1, 9))\n",
    "accuracies_10 = [68.45, 71.61, 77.35, 81.06, 79.42, 82.52, 83.32, 84.51]\n",
    "losses_10 = [0.610, 0.669, 0.646, 0.626, 0.582, 0.549, 0.554, 0.514]\n",
    "train_accuracies_10 = [59.78, 75.48, 82.08, 84.93, 86.91, 88.45, 89.46, 90.77]\n",
    "train_losses_10 = [0.655, 0.509, 0.409, 0.354, 0.312, 0.282, 0.256, 0.233]\n",
    "plt.figure(figsize=(9, 4))\n",
    "plt.subplot(1, 2, 1)\n",
    "plt.plot(epochs_10, accuracies_10, label='Validation Accuracy')\n",
    "plt.plot(epochs_10, train_accuracies_10, label='Training Accuracy')\n",
    "plt.xlabel('Epoch')\n",
    "plt.ylabel('Accuracy')\n",
    "plt.title('GRU Validation and Training Accuracy')\n",
    "plt.legend()\n",
    "plt.subplot(1, 2, 2)\n",
    "plt.plot(epochs_10, losses_10, label='Validation Loss')\n",
    "plt.plot(epochs_10, train_losses_10, label='Training Loss')\n",
    "plt.xlabel('Epoch')\n",
    "plt.ylabel('Loss')\n",
    "plt.title('GRU Validation and Training Loss')\n",
    "plt.legend()\n",
    "plt.tight_layout()\n",
    "plt.show()"
   ]
  },
  {
   "cell_type": "code",
   "execution_count": 53,
   "id": "384f2ccb",
   "metadata": {},
   "outputs": [],
   "source": [
    "# Custom movie reviews from user\n",
    "custom = [\n",
    "    \"This movie is awesome!\",\n",
    "    \"I really disliked this film, worst ever.\",\n",
    "    \"The acting was superb!\",\n",
    "    \"Not at all recommended, waste of time, waste of money and headache.\",\n",
    "    \"My first exposure to the Templarios & not a good one. I was excited to find this title among the offerings from Anchor Bay Video, which has brought us other cult classics such as 'Spider Baby'. The print quality is excellent, but this alone can't hide the fact that the film is deadly dull. There's a thrilling opening sequence in which the villagers exact a terrible revenge on the Templars (& set the whole thing in motion), but everything else in the movie is slow, ponderous &, ultimately, unfulfilling. Adding insult to injury: the movie was dubbed, not subtitled, as promised on the video jacket.\"\n",
    "]"
   ]
  },
  {
   "cell_type": "code",
   "execution_count": 54,
   "id": "95c74704",
   "metadata": {},
   "outputs": [],
   "source": [
    "# NLP pre-processing the reviews and not data cleaning!\n",
    "preprocessed_statement = [NLPpreprocess(statement) for statement in custom]\n",
    "tokenized_statement = [tokenizer(statement) for statement in preprocessed_statement]\n",
    "sequences = [torch.tensor([lex[word] for word in statement if word in lex]) for statement in tokenized_statement]\n",
    "final_statement = pad_sequence(sequences, batch_first = True, padding_value = torchlen)"
   ]
  },
  {
   "cell_type": "code",
   "execution_count": 61,
   "id": "e5e61693",
   "metadata": {},
   "outputs": [
    {
     "name": "stdout",
     "output_type": "stream",
     "text": [
      "Review: This movie is awesome!\n",
      "Sentiment: positive\n",
      "---------------------------------------------------------------------------\n",
      "Review: I really disliked this film, worst ever.\n",
      "Sentiment: negative\n",
      "---------------------------------------------------------------------------\n",
      "Review: The acting was superb!\n",
      "Sentiment: positive\n",
      "---------------------------------------------------------------------------\n",
      "Review: Not at all recommended, waste of time, waste of money and headache.\n",
      "Sentiment: negative\n",
      "---------------------------------------------------------------------------\n",
      "Review: My first exposure to the Templarios & not a good one. I was excited to find this title among the offerings from Anchor Bay Video, which has brought us other cult classics such as 'Spider Baby'. The print quality is excellent, but this alone can't hide the fact that the film is deadly dull. There's a thrilling opening sequence in which the villagers exact a terrible revenge on the Templars (& set the whole thing in motion), but everything else in the movie is slow, ponderous &, ultimately, unfulfilling. Adding insult to injury: the movie was dubbed, not subtitled, as promised on the video jacket.\n",
      "Sentiment: negative\n",
      "---------------------------------------------------------------------------\n"
     ]
    }
   ],
   "source": [
    "model.eval()\n",
    "with torch.no_grad():\n",
    "    predictions = model(final_statement)\n",
    "    \n",
    "rounded_predictions = torch.round(torch.sigmoid(predictions)).squeeze(1)\n",
    "sentiments = ['positive' if pred == 1 else 'negative' for pred in rounded_predictions]\n",
    "\n",
    "for statement, sentiment in zip(custom, sentiments):\n",
    "    print(f\"Review: {statement}\\nSentiment: {sentiment}\\n---------------------------------------------------------------------------\")"
   ]
  },
  {
   "cell_type": "markdown",
   "id": "1c1f046e",
   "metadata": {},
   "source": [
    "References:\n"
   ]
  },
  {
   "cell_type": "markdown",
   "id": "4df57471",
   "metadata": {},
   "source": [
    "1. https://www.kaggle.com/code/lakshmi25npathi/sentiment-analysis-of-imdb-movie-reviews/input - DataSet\n",
    "2. https://www.kaggle.com/code/affand20/imdb-with-pytorch\n",
    "3. https://pytorch.org/docs/stable/index.html -PyTorch all Documentation"
   ]
  }
 ],
 "metadata": {
  "kernelspec": {
   "display_name": "Python 3 (ipykernel)",
   "language": "python",
   "name": "python3"
  },
  "language_info": {
   "codemirror_mode": {
    "name": "ipython",
    "version": 3
   },
   "file_extension": ".py",
   "mimetype": "text/x-python",
   "name": "python",
   "nbconvert_exporter": "python",
   "pygments_lexer": "ipython3",
   "version": "3.10.9"
  }
 },
 "nbformat": 4,
 "nbformat_minor": 5
}
